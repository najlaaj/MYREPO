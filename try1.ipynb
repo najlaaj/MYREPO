{
 "cells": [
  {
   "cell_type": "markdown",
   "metadata": {},
   "source": [
    "# preprocessing"
   ]
  },
  {
   "cell_type": "code",
   "execution_count": null,
   "metadata": {},
   "outputs": [],
   "source": [
    "trying a plain text"
   ]
  },
  {
   "cell_type": "code",
   "execution_count": 9,
   "metadata": {},
   "outputs": [
    {
     "name": "stdout",
     "output_type": "stream",
     "text": [
      "Missing values in each column:\n",
      "Unnamed: 0         0\n",
      "product_href       0\n",
      "product_name       0\n",
      "product_type       0\n",
      "brand              0\n",
      "notable_effects    0\n",
      "skintype           0\n",
      "price              0\n",
      "description        0\n",
      "picture_src        0\n",
      "labels             0\n",
      "Sensitive          0\n",
      "Combination        0\n",
      "Oily               0\n",
      "Dry                0\n",
      "Normal             0\n",
      "dtype: int64\n",
      "\n"
     ]
    }
   ],
   "source": [
    "\n",
    "# Load the CSV file into a DataFrame\n",
    "file_path = 'export_skincare.csv'  # Replace with the path to your file\n",
    "dgf = pd.read_csv(file_path)\n",
    "\n",
    "missing_valu = dgf.isnull().sum()\n",
    "print(f'Missing values in each column:\\n{missing_valu}\\n')"
   ]
  }
 ],
 "metadata": {
  "kernelspec": {
   "display_name": "Python 3",
   "language": "python",
   "name": "python3"
  },
  "language_info": {
   "codemirror_mode": {
    "name": "ipython",
    "version": 3
   },
   "file_extension": ".py",
   "mimetype": "text/x-python",
   "name": "python",
   "nbconvert_exporter": "python",
   "pygments_lexer": "ipython3",
   "version": "3.13.2"
  }
 },
 "nbformat": 4,
 "nbformat_minor": 2
}
